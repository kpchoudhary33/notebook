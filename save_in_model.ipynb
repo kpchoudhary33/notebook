{
 "cells": [
  {
   "cell_type": "code",
   "execution_count": 1,
   "id": "55870d10",
   "metadata": {},
   "outputs": [],
   "source": [
    "from notebook_app.models import JupyterNoteBookData"
   ]
  },
  {
   "cell_type": "code",
   "execution_count": 3,
   "id": "e0576705",
   "metadata": {},
   "outputs": [],
   "source": [
    "kk = JupyterNoteBookData.objects.create(label='test_code', code='def sum(a, b):return a+b', description='test function')"
   ]
  },
  {
   "cell_type": "code",
   "execution_count": 5,
   "id": "4956d1a8",
   "metadata": {},
   "outputs": [
    {
     "data": {
      "text/plain": [
       "'def sum(a, b):return a+b'"
      ]
     },
     "execution_count": 5,
     "metadata": {},
     "output_type": "execute_result"
    }
   ],
   "source": [
    "kk.code"
   ]
  },
  {
   "cell_type": "code",
   "execution_count": null,
   "id": "cb14d39e",
   "metadata": {},
   "outputs": [],
   "source": []
  }
 ],
 "metadata": {
  "kernelspec": {
   "display_name": "Django Shell-Plus",
   "language": "python",
   "name": "django_extensions"
  },
  "language_info": {
   "codemirror_mode": {
    "name": "ipython",
    "version": 3
   },
   "file_extension": ".py",
   "mimetype": "text/x-python",
   "name": "python",
   "nbconvert_exporter": "python",
   "pygments_lexer": "ipython3",
   "version": "3.8.9"
  }
 },
 "nbformat": 4,
 "nbformat_minor": 5
}
