{
 "cells": [
  {
   "cell_type": "code",
   "execution_count": 1,
   "id": "61a363e3",
   "metadata": {},
   "outputs": [],
   "source": [
    "import pandas as pd \n",
    "    \n",
    "# making data frame \n",
    "def read_csv():\n",
    "    data = pd.read_csv(\"https://media.geeksforgeeks.org/wp-content/uploads/nba.csv\") \n",
    "    data_top = data.head() \n",
    "    print(data_top) "
   ]
  },
  {
   "cell_type": "code",
   "execution_count": 2,
   "id": "72944dad",
   "metadata": {},
   "outputs": [
    {
     "name": "stdout",
     "output_type": "stream",
     "text": [
      "            Name            Team  Number Position   Age Height  Weight  \\\n",
      "0  Avery Bradley  Boston Celtics     0.0       PG  25.0    6-2   180.0   \n",
      "1    Jae Crowder  Boston Celtics    99.0       SF  25.0    6-6   235.0   \n",
      "2   John Holland  Boston Celtics    30.0       SG  27.0    6-5   205.0   \n",
      "3    R.J. Hunter  Boston Celtics    28.0       SG  22.0    6-5   185.0   \n",
      "4  Jonas Jerebko  Boston Celtics     8.0       PF  29.0   6-10   231.0   \n",
      "\n",
      "             College     Salary  \n",
      "0              Texas  7730337.0  \n",
      "1          Marquette  6796117.0  \n",
      "2  Boston University        NaN  \n",
      "3      Georgia State  1148640.0  \n",
      "4                NaN  5000000.0  \n"
     ]
    }
   ],
   "source": [
    "read_csv()"
   ]
  },
  {
   "cell_type": "code",
   "execution_count": null,
   "id": "f8643044",
   "metadata": {},
   "outputs": [],
   "source": []
  }
 ],
 "metadata": {
  "kernelspec": {
   "display_name": "Django Shell-Plus",
   "language": "python",
   "name": "django_extensions"
  },
  "language_info": {
   "codemirror_mode": {
    "name": "ipython",
    "version": 3
   },
   "file_extension": ".py",
   "mimetype": "text/x-python",
   "name": "python",
   "nbconvert_exporter": "python",
   "pygments_lexer": "ipython3",
   "version": "3.8.9"
  }
 },
 "nbformat": 4,
 "nbformat_minor": 5
}
